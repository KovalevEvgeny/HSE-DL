{
 "cells": [
  {
   "cell_type": "markdown",
   "metadata": {},
   "source": [
    "# Генерация коротких текстов с помощью RNN\n",
    "\n",
    "\n",
    "Генерировать тексты можно с помощью RNN, предсказывающей следующий символ последовательности по предыдущим.\n",
    "\n",
    "В этом задании предлагается написать и проучить на небольшом датасете имен [генеративную модель на основе символов -- Char-RNN](http://karpathy.github.io/2015/05/21/rnn-effectiveness/).\n",
    "\n",
    "![charseq](./charseq.jpeg)\n",
    "Картинка взята из [статьи Karpathy](http://karpathy.github.io/2015/05/21/rnn-effectiveness/)"
   ]
  },
  {
   "cell_type": "code",
   "execution_count": 1,
   "metadata": {
    "collapsed": true
   },
   "outputs": [],
   "source": [
    "import numpy as np\n",
    "import matplotlib.pyplot as plt\n",
    "%matplotlib inline"
   ]
  },
  {
   "cell_type": "markdown",
   "metadata": {},
   "source": [
    "В файле `names` находится ~8k имен на латинице.\n",
    "\n",
    "Модель будет получать на вход имя `Amandy` и выдавать его же, только со сдвигом: `mandy `.\n",
    "\n",
    "Чтобы сеть училась генерировать заглавные буквы, добавим в начало специальный токен, пробел:\n",
    "```\n",
    "_Amandy --> Amandy_\n",
    "```\n",
    "\n",
    "Для практического использования, на каждом шаге будем подавать на вход букву, предсказанную на предыдущем.\n",
    "Так что нам потребуется правило для останова генерации (это может быть просто ограничение на количество шагов).\n",
    "С другой стороны, можно добавить в конец каждого примера обучающей выборки специальный `<EOS>` токен. В данном случае обозначим его `#`:\n",
    "\n",
    "```\n",
    "_Amandy --> Amandy#\n",
    "```\n",
    "\n",
    "Будем прекращать генерацию при досрочном выпадании `<EOS>`."
   ]
  },
  {
   "cell_type": "code",
   "execution_count": 2,
   "metadata": {},
   "outputs": [
    {
     "name": "stdout",
     "output_type": "stream",
     "text": [
      "There are 7578 names: \n",
      " Phyllida#\n",
      " Concordia#\n",
      " Karoly#\n",
      " Avrom#\n",
      " Hamlet#\n",
      " Kalila#\n",
      " Mahalia#\n",
      " Ransell#\n"
     ]
    }
   ],
   "source": [
    "import os\n",
    "start_token = \" \"\n",
    "eos = '#'\n",
    "\n",
    "with open(\"names\") as f:\n",
    "    names = f.readlines()\n",
    "    names = [start_token + name.strip() + eos for name in names]\n",
    "\n",
    "names = list(set(names))  # в датасете есть повторы\n",
    "print('There are {} names: '.format(len(names)))\n",
    "for x in names[::1000]:\n",
    "    print(x)"
   ]
  },
  {
   "cell_type": "code",
   "execution_count": 3,
   "metadata": {
    "collapsed": true
   },
   "outputs": [],
   "source": [
    "from collections import Counter, OrderedDict"
   ]
  },
  {
   "cell_type": "code",
   "execution_count": 4,
   "metadata": {},
   "outputs": [
    {
     "data": {
      "image/png": "[encoded data removed]",
      "text/plain": [
       "<matplotlib.figure.Figure at 0x1ba41e130b8>"
      ]
     },
     "metadata": {},
     "output_type": "display_data"
    }
   ],
   "source": [
    "# TODO: постройте частоты употреблений букв\n",
    "letters = sum([list(name) for name in names], [])\n",
    "letters_count = OrderedDict(sorted(Counter(letters).items(), key=lambda x: x[1], reverse=True))\n",
    "\n",
    "plt.figure(figsize=(16,9))\n",
    "plt.title('Symbols distribution')\n",
    "plt.bar(range(len(letters_count)), list(letters_count.values()), align='center')\n",
    "plt.xticks(range(len(letters_count)), list(letters_count.keys()))\n",
    "plt.show()\n",
    "# HINT: для графика возьмите plt.bar"
   ]
  },
  {
   "cell_type": "code",
   "execution_count": 5,
   "metadata": {},
   "outputs": [
    {
     "name": "stdout",
     "output_type": "stream",
     "text": [
      "max length = 17\n"
     ]
    },
    {
     "data": {
      "image/png": "[encoded data removed]",
      "text/plain": [
       "<matplotlib.figure.Figure at 0x1ba5082fac8>"
      ]
     },
     "metadata": {},
     "output_type": "display_data"
    }
   ],
   "source": [
    "# датасете есть слова с разными длинами\n",
    "MAX_LENGTH = max(map(len,names))\n",
    "print(\"max length =\", MAX_LENGTH)\n",
    "\n",
    "plt.title('Sequence length distribution')\n",
    "plt.hist(list(map(len,names)), bins=25);"
   ]
  },
  {
   "cell_type": "code",
   "execution_count": 6,
   "metadata": {},
   "outputs": [
    {
     "data": {
      "text/plain": [
       "[' Phyllida#',\n",
       " ' Adelaide#',\n",
       " ' Walker#',\n",
       " ' Barbi#',\n",
       " ' Yuri#',\n",
       " ' Lanette#',\n",
       " ' Jeremie#',\n",
       " ' Stace#',\n",
       " ' Florencia#',\n",
       " ' Lyle#']"
      ]
     },
     "execution_count": 6,
     "metadata": {},
     "output_type": "execute_result"
    }
   ],
   "source": [
    "names[:10]"
   ]
  },
  {
   "cell_type": "code",
   "execution_count": 7,
   "metadata": {},
   "outputs": [
    {
     "name": "stdout",
     "output_type": "stream",
     "text": [
      "There are {} tokens 56\n",
      "Vocabular:  #'-ABCDEFGHIJKLMNOPQRSTUVWXYZabcdefghijklmnopqrstuvwxyz\n"
     ]
    }
   ],
   "source": [
    "# TODO: отберите уникальные токены и заполните два словаря для конвертации токенов <-> индексы\n",
    "# сделайте так, чтобы пробел имел номер 0\n",
    "    \n",
    "tokens = sorted(list(set(letters)))\n",
    "    \n",
    "tok2id = {tok: i for i, tok in enumerate(tokens)}\n",
    "id2tok = {i: tok for tok, i in tok2id.items()}\n",
    "\n",
    "n_tokens = len(tokens)\n",
    "print ('There are {} tokens',n_tokens)\n",
    "\n",
    "assert 50 < n_tokens < 60\n",
    "\n",
    "print('Vocabular: ' + \"\".join(tokens))"
   ]
  },
  {
   "cell_type": "code",
   "execution_count": 8,
   "metadata": {
    "collapsed": true
   },
   "outputs": [],
   "source": [
    "def to_matrix(names, max_len=None, pad=tok2id[' '], dtype=np.int64):\n",
    "    \"\"\"Casts a list of names into rnn-digestable matrix\"\"\"\n",
    "    \n",
    "    max_len = max_len or max(map(len, names))\n",
    "    names_ix = np.zeros([len(names), max_len], dtype) + pad\n",
    "\n",
    "    for i in range(len(names)):\n",
    "        name_ix = list(map(tok2id.get, names[i]))\n",
    "        #print(name_ix)\n",
    "        names_ix[i, :len(name_ix)] = name_ix\n",
    "\n",
    "    return names_ix"
   ]
  },
  {
   "cell_type": "code",
   "execution_count": 9,
   "metadata": {},
   "outputs": [
    {
     "name": "stdout",
     "output_type": "stream",
     "text": [
      " Phyllida#\n",
      " Adelaide#\n",
      " Walker#\n",
      " Barbi#\n",
      " Yuri#\n",
      " Lanette#\n",
      " Jeremie#\n",
      " Stace#\n",
      " Florencia#\n",
      " Lyle#\n",
      "[[ 0 19 37 54 41 41 38 33 30  1  0]\n",
      " [ 0  4 33 34 41 30 38 33 34  1  0]\n",
      " [ 0 26 30 41 40 34 47  1  0  0  0]\n",
      " [ 0  5 30 47 31 38  1  0  0  0  0]\n",
      " [ 0 28 50 47 38  1  0  0  0  0  0]\n",
      " [ 0 15 30 43 34 49 49 34  1  0  0]\n",
      " [ 0 13 34 47 34 42 38 34  1  0  0]\n",
      " [ 0 22 49 30 32 34  1  0  0  0  0]\n",
      " [ 0  9 41 44 47 34 43 32 38 30  1]\n",
      " [ 0 15 54 41 34  1  0  0  0  0  0]]\n"
     ]
    }
   ],
   "source": [
    "print('\\n'.join(names[:10]))\n",
    "print(to_matrix(names[:10]))"
   ]
  },
  {
   "cell_type": "code",
   "execution_count": 10,
   "metadata": {},
   "outputs": [
    {
     "data": {
      "text/plain": [
       "(5683, 1895)"
      ]
     },
     "execution_count": 10,
     "metadata": {},
     "output_type": "execute_result"
    }
   ],
   "source": [
    "# TODO: разбейте все имена на тренировочную и тестовую часть\n",
    "np.random.seed(13)\n",
    "\n",
    "def split_data(data, train_size=0.75):\n",
    "    train_index = np.random.choice(range(len(data)), size=int(train_size * len(data)), replace=False)\n",
    "    test_index = np.delete(np.arange(len(data)), train_index)\n",
    "    data = np.array(data)\n",
    "    return data[train_index], data[test_index]\n",
    "\n",
    "train_data, val_data = split_data(names)\n",
    "\n",
    "len(train_data), len(val_data)"
   ]
  },
  {
   "cell_type": "code",
   "execution_count": 11,
   "metadata": {
    "collapsed": true
   },
   "outputs": [],
   "source": [
    "import torch\n",
    "import torch.nn as nn\n",
    "from torch.nn import functional as F\n",
    "from torch.autograd import Variable\n",
    "from torch import optim\n",
    "from IPython.display import clear_output"
   ]
  },
  {
   "cell_type": "markdown",
   "metadata": {},
   "source": [
    "# Char-RNN для имен (0.2 балла)\n",
    "\n",
    "Вам нужно написать сеть, кодирующую номера входных символов с помощью таблицы Embeddings. \n",
    "Получившиеся тензоры пропустить через RNN ячейку, затем преобразовать в логиты для предсказания номера нового символа."
   ]
  },
  {
   "cell_type": "code",
   "execution_count": 12,
   "metadata": {
    "collapsed": true
   },
   "outputs": [],
   "source": [
    "# NB: обратите внимание на порядок осей при вызове forward\n",
    "# http://pytorch.org/docs/master/nn.html#recurrent-layers\n",
    "\n",
    "# Сделайте возможность выбора типа ячейки, RNN, GRU или LSTM\n",
    "# TODO: заполните пропуски. Функция forward будет вызываться на каждый шаг нами\n",
    "\n",
    "class NameRNN(nn.Module):\n",
    "    def __init__(self, vocab_size, hidden_size, output_size, cell=\"rnn\", n_layers=1):\n",
    "        super(NameRNN, self).__init__()\n",
    "        # добавьте возможность выбрать тип ячейки RNN/LSTM\n",
    "        self.vocab_size = vocab_size\n",
    "        self.hidden_size = hidden_size\n",
    "        self.output_size = output_size\n",
    "        self.n_layers = n_layers\n",
    "        self.cell = cell\n",
    "        \n",
    "        self.embeddings = nn.Embedding(vocab_size, hidden_size)\n",
    "        # cell == LSTM\n",
    "        if self.cell == 'rnn':\n",
    "            self.rnn = nn.RNN(hidden_size, hidden_size, n_layers)\n",
    "        elif self.cell == 'gru':\n",
    "            self.rnn = nn.GRU(hidden_size, hidden_size, n_layers)\n",
    "        elif self.cell == 'lstm':\n",
    "            self.rnn = nn.LSTM(hidden_size, hidden_size, n_layers)\n",
    "        self.decoder = nn.Linear(hidden_size, output_size)\n",
    "        \n",
    "    def forward(self, input, hidden):\n",
    "        bs = input.size(0)\n",
    "        embedded = self.embeddings(input)\n",
    "        reordered = embedded.view(1, bs, -1)\n",
    "        output, hidden = self.rnn(reordered, hidden)\n",
    "        out = self.decoder(output)\n",
    "        return out.view(bs, -1), hidden\n",
    "\n",
    "    def init_hidden(self, batch_size):\n",
    "        if self.cell == \"lstm\":\n",
    "            return (Variable(torch.zeros(self.n_layers, batch_size, self.hidden_size)),\n",
    "                    Variable(torch.zeros(self.n_layers, batch_size, self.hidden_size)))\n",
    "        \n",
    "        return Variable(torch.zeros(self.n_layers, batch_size, self.hidden_size))"
   ]
  },
  {
   "cell_type": "markdown",
   "metadata": {},
   "source": [
    "# Код для тренировки RNN (0.2 балла)"
   ]
  },
  {
   "cell_type": "code",
   "execution_count": 13,
   "metadata": {
    "collapsed": true
   },
   "outputs": [],
   "source": [
    "def train_epoch(model, optimizer, train_batches):\n",
    "    loss_log = []\n",
    "    model.train()\n",
    "    \n",
    "    for batch in train_batches:\n",
    "        # можно вынести подсчет ошибки в модельку\n",
    "        \n",
    "        nums = to_matrix(batch)\n",
    "        t = Variable(torch.from_numpy(nums))\n",
    "        hidden = model.init_hidden(t.shape[0])\n",
    "        loss = 0.0\n",
    "        for i in range(0, t.shape[1] - 1):\n",
    "            out, hidden = model.forward(t[:, i], hidden)\n",
    "            loss += F.cross_entropy(out, t[:, i + 1])\n",
    "        loss.backward()\n",
    "        optimizer.step()\n",
    "            \n",
    "        loss = loss.data[0]\n",
    "        loss_log.append(loss)\n",
    "    return loss_log   \n",
    "\n",
    "def test(model, test_batches):\n",
    "    loss_log = []\n",
    "    model.eval()\n",
    "    for batch in test_batches:\n",
    "        nums = to_matrix(batch)\n",
    "        t = Variable(torch.from_numpy(nums))\n",
    "        hidden = model.init_hidden(t.shape[0])\n",
    "        loss = 0.0\n",
    "        for i in range(0, t.shape[1] - 1):\n",
    "            out, hidden = model(t[:, i], hidden)\n",
    "            loss += F.cross_entropy(out, t[:, i + 1])\n",
    "        loss = loss.data[0]\n",
    "        loss_log.append(loss)\n",
    "    return loss_log\n",
    "\n",
    "def plot_history(train_history, val_history, title='loss'):\n",
    "    plt.figure()\n",
    "    plt.title('{}'.format(title))\n",
    "    plt.plot(train_history, label='train', zorder=1)    \n",
    "    points = np.array(val_history)\n",
    "    plt.scatter(points[:, 0], points[:, 1], marker='+', s=180, c='orange', label='val', zorder=2)\n",
    "    plt.xlabel('train steps')\n",
    "    plt.legend(loc='best')\n",
    "    plt.grid()\n",
    "    plt.show()\n",
    "    \n",
    "def train(model, opt, n_epochs):\n",
    "    train_log = []\n",
    "    val_log = []\n",
    "    \n",
    "    bs = 32\n",
    "    total_steps = 0\n",
    "    train_batches = np.array_split(train_data, len(train_data) // bs)\n",
    "    test_batches = np.array_split(val_data, len(val_data) // bs)\n",
    "    for epoch in range(n_epochs):\n",
    "        train_loss = train_epoch(model, opt, train_batches)\n",
    "        train_log.extend(train_loss)\n",
    "        total_steps += len(train_batches)\n",
    "        \n",
    "        val_loss = test(model, test_batches)\n",
    "        train_log.extend(train_loss)\n",
    "        \n",
    "        val_log.append((len(train_log), np.mean(val_loss)))\n",
    "        \n",
    "        clear_output()\n",
    "        plot_history(train_log, val_log)"
   ]
  },
  {
   "cell_type": "code",
   "execution_count": 14,
   "metadata": {},
   "outputs": [
    {
     "data": {
      "image/png": "[encoded data removed]",
      "text/plain": [
       "<matplotlib.figure.Figure at 0x1ba5c841eb8>"
      ]
     },
     "metadata": {},
     "output_type": "display_data"
    }
   ],
   "source": [
    "rnn = NameRNN(len(tokens), 50, len(tokens), cell='rnn')\n",
    "\n",
    "opt = torch.optim.Adam(rnn.parameters(), lr=1e-4)\n",
    "train(rnn, opt, 20)"
   ]
  },
  {
   "cell_type": "code",
   "execution_count": 15,
   "metadata": {},
   "outputs": [
    {
     "data": {
      "image/png": "[encoded data removed]",
      "text/plain": [
       "<matplotlib.figure.Figure at 0x1ba53800d30>"
      ]
     },
     "metadata": {},
     "output_type": "display_data"
    }
   ],
   "source": [
    "rnn = NameRNN(len(tokens), 50, len(tokens), cell='lstm')\n",
    "\n",
    "opt = torch.optim.Adam(rnn.parameters(), lr=1e-4)\n",
    "train(rnn, opt, 20)"
   ]
  },
  {
   "cell_type": "markdown",
   "metadata": {},
   "source": [
    "# Генерация по argmax (0.2 балла)"
   ]
  },
  {
   "cell_type": "code",
   "execution_count": 16,
   "metadata": {},
   "outputs": [
    {
     "name": "stdout",
     "output_type": "stream",
     "text": [
      " Ku|llia#      \n"
     ]
    }
   ],
   "source": [
    "# Напишите функцию генерации продолжения строки\n",
    "def pick_by_argmax(logits):\n",
    "    return logits.max(1)[1].data.numpy()[0]\n",
    "\n",
    "def ids2string(ids):\n",
    "    return \"\".join(id2tok[_] for _ in ids)\n",
    "\n",
    "\n",
    "def gen_continuation(model, prefix=\" \"):\n",
    "    hidden = model.init_hidden(1)\n",
    "    nums = to_matrix(prefix)\n",
    "    nums = Variable(torch.from_numpy(nums))\n",
    "    \n",
    "    # TODO: сначала сверните строку с помощью RNN:\n",
    "    # нас интересует последний output и hidden\n",
    "    for inp in nums:\n",
    "        out, hidden = model.forward(inp, hidden)\n",
    "    \n",
    "    # TODO: затем сгенерируйте несколько последующих символов\n",
    "    # outs -- это массив с номерами токенов\n",
    "    outs = [pick_by_argmax(out)]\n",
    "    inp = out.max(1)[1]\n",
    "    for i in range(10):\n",
    "        out, hidden = model.forward(inp, hidden)\n",
    "        outs.append(pick_by_argmax(out))\n",
    "        inp = out.max(1)[1]\n",
    "    \n",
    "    print(prefix + '|'+ ids2string(outs))\n",
    "\n",
    "gen_continuation(rnn, \" Ku\")"
   ]
  },
  {
   "cell_type": "markdown",
   "metadata": {},
   "source": [
    "# Генерация с семплированием (0.4 балла)\n",
    "\n",
    "Обычный софтмакс \n",
    "$$p_i = \\frac{\\exp (x_i)}{\\sum \\exp (x_j)}$$\n",
    "можно модернизировать с помощью температуры:\n",
    "$$p_i = \\frac{\\exp (x_i / T)}{\\sum \\exp (x_j / T)}$$\n",
    "\n",
    "Это позволит плавно переходить от выбора наиболее вероятного элемента ($T << 1$) до практически равновероятного ($T >> 1$)\n"
   ]
  },
  {
   "cell_type": "code",
   "execution_count": 17,
   "metadata": {},
   "outputs": [],
   "source": [
    "# Напишите функцию генерации батчами с семплированием из распределения и температурой\n",
    "def batch2string(ids, prefix):\n",
    "    # модифицируйте ids2string для работы с батчами\n",
    "    return '\\n'.join([prefix + ''.join(id2tok[_] for _ in x) for x in ids])\n",
    "\n",
    "def pick_by_distribution(logits, temperature):\n",
    "    # превратите логиты в распределение\n",
    "    # затем семлируйте из него batch примеров\n",
    "    distr = torch.exp(logits / temperature) / torch.sum(torch.exp(logits / temperature))\n",
    "    return np.random.choice(range(len(distr)), size=1, p=distr.data.numpy())[0]\n",
    "\n",
    "def gen_continuation_temp(model, prefix=\" \", temperature=1.0, n=10):\n",
    "    hidden = model.init_hidden(n)\n",
    "    nums = to_matrix([prefix] * n)\n",
    "    nums = Variable(torch.from_numpy(nums))\n",
    "\n",
    "    # аналогично, сначала получите батч output, hidden\n",
    "    for i in range(nums.shape[1]):\n",
    "        out, hidden = rnn.forward(nums[:, i], hidden)\n",
    "    \n",
    "    # затем, сгенерируйте n последующих символов\n",
    "    # в outs положите матрицу номеров токенов и отобразите ее\n",
    "    outs = []\n",
    "    for i in range(n):\n",
    "        outs.append([pick_by_distribution(out[i], temperature)])\n",
    "    inp = Variable(torch.from_numpy(np.array(outs)).long())\n",
    "    for i in range(10):\n",
    "        out, hidden = model.forward(inp, hidden)\n",
    "        for j in range(n):\n",
    "            outs[j].append(pick_by_distribution(out[j], temperature))\n",
    "        inp = Variable(torch.from_numpy(np.array(outs)[:, i + 1]).long())\n",
    "    \n",
    "    print(batch2string(outs, prefix + '|'))"
   ]
  },
  {
   "cell_type": "code",
   "execution_count": 18,
   "metadata": {},
   "outputs": [
    {
     "name": "stdout",
     "output_type": "stream",
     "text": [
      " An|ne#        \n",
      " An|relle#     \n",
      " An|na#        \n",
      " An|amia#      \n",
      " An|den#       \n",
      " An|da#        \n",
      " An|rina#      \n",
      " An|da#        \n",
      " An|eryn#      \n",
      " An|da#        \n"
     ]
    }
   ],
   "source": [
    "gen_continuation_temp(rnn, prefix=\" An\", temperature=0.5, n=10)"
   ]
  }
 ],
 "metadata": {
  "kernelspec": {
   "display_name": "Python 3",
   "language": "python",
   "name": "python3"
  },
  "language_info": {
   "codemirror_mode": {
    "name": "ipython",
    "version": 3
   },
   "file_extension": ".py",
   "mimetype": "text/x-python",
   "name": "python",
   "nbconvert_exporter": "python",
   "pygments_lexer": "ipython3",
   "version": "3.6.3"
  }
 },
 "nbformat": 4,
 "nbformat_minor": 2
}
